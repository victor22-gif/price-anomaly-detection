{
 "cells": [
  {
   "cell_type": "code",
   "execution_count": 1,
   "id": "4c991c17",
   "metadata": {},
   "outputs": [
    {
     "data": {
      "application/vnd.microsoft.datawrangler.viewer.v0+json": {
       "columns": [
        {
         "name": "index",
         "rawType": "int64",
         "type": "integer"
        },
        {
         "name": "Airline",
         "rawType": "object",
         "type": "string"
        },
        {
         "name": "Date_of_Journey",
         "rawType": "object",
         "type": "string"
        },
        {
         "name": "Source",
         "rawType": "object",
         "type": "string"
        },
        {
         "name": "Destination",
         "rawType": "object",
         "type": "string"
        },
        {
         "name": "Route",
         "rawType": "object",
         "type": "string"
        },
        {
         "name": "Dep_Time",
         "rawType": "object",
         "type": "string"
        },
        {
         "name": "Arrival_Time",
         "rawType": "object",
         "type": "string"
        },
        {
         "name": "Duration",
         "rawType": "object",
         "type": "string"
        },
        {
         "name": "Total_Stops",
         "rawType": "object",
         "type": "string"
        },
        {
         "name": "Additional_Info",
         "rawType": "object",
         "type": "string"
        },
        {
         "name": "Price",
         "rawType": "int64",
         "type": "integer"
        }
       ],
       "ref": "f8d3f77e-bd91-477b-8f2b-ba317b24039f",
       "rows": [
        [
         "0",
         "IndiGo",
         "24/03/2019",
         "Banglore",
         "New Delhi",
         "BLR → DEL",
         "22:20",
         "01:10 22 Mar",
         "2h 50m",
         "non-stop",
         "No info",
         "3897"
        ],
        [
         "1",
         "Air India",
         "1/05/2019",
         "Kolkata",
         "Banglore",
         "CCU → IXR → BBI → BLR",
         "05:50",
         "13:15",
         "7h 25m",
         "2 stops",
         "No info",
         "7662"
        ],
        [
         "2",
         "Jet Airways",
         "9/06/2019",
         "Delhi",
         "Cochin",
         "DEL → LKO → BOM → COK",
         "09:25",
         "04:25 10 Jun",
         "19h",
         "2 stops",
         "No info",
         "13882"
        ],
        [
         "3",
         "IndiGo",
         "12/05/2019",
         "Kolkata",
         "Banglore",
         "CCU → NAG → BLR",
         "18:05",
         "23:30",
         "5h 25m",
         "1 stop",
         "No info",
         "6218"
        ],
        [
         "4",
         "IndiGo",
         "01/03/2019",
         "Banglore",
         "New Delhi",
         "BLR → NAG → DEL",
         "16:50",
         "21:35",
         "4h 45m",
         "1 stop",
         "No info",
         "13302"
        ]
       ],
       "shape": {
        "columns": 11,
        "rows": 5
       }
      },
      "text/html": [
       "<div>\n",
       "<style scoped>\n",
       "    .dataframe tbody tr th:only-of-type {\n",
       "        vertical-align: middle;\n",
       "    }\n",
       "\n",
       "    .dataframe tbody tr th {\n",
       "        vertical-align: top;\n",
       "    }\n",
       "\n",
       "    .dataframe thead th {\n",
       "        text-align: right;\n",
       "    }\n",
       "</style>\n",
       "<table border=\"1\" class=\"dataframe\">\n",
       "  <thead>\n",
       "    <tr style=\"text-align: right;\">\n",
       "      <th></th>\n",
       "      <th>Airline</th>\n",
       "      <th>Date_of_Journey</th>\n",
       "      <th>Source</th>\n",
       "      <th>Destination</th>\n",
       "      <th>Route</th>\n",
       "      <th>Dep_Time</th>\n",
       "      <th>Arrival_Time</th>\n",
       "      <th>Duration</th>\n",
       "      <th>Total_Stops</th>\n",
       "      <th>Additional_Info</th>\n",
       "      <th>Price</th>\n",
       "    </tr>\n",
       "  </thead>\n",
       "  <tbody>\n",
       "    <tr>\n",
       "      <th>0</th>\n",
       "      <td>IndiGo</td>\n",
       "      <td>24/03/2019</td>\n",
       "      <td>Banglore</td>\n",
       "      <td>New Delhi</td>\n",
       "      <td>BLR → DEL</td>\n",
       "      <td>22:20</td>\n",
       "      <td>01:10 22 Mar</td>\n",
       "      <td>2h 50m</td>\n",
       "      <td>non-stop</td>\n",
       "      <td>No info</td>\n",
       "      <td>3897</td>\n",
       "    </tr>\n",
       "    <tr>\n",
       "      <th>1</th>\n",
       "      <td>Air India</td>\n",
       "      <td>1/05/2019</td>\n",
       "      <td>Kolkata</td>\n",
       "      <td>Banglore</td>\n",
       "      <td>CCU → IXR → BBI → BLR</td>\n",
       "      <td>05:50</td>\n",
       "      <td>13:15</td>\n",
       "      <td>7h 25m</td>\n",
       "      <td>2 stops</td>\n",
       "      <td>No info</td>\n",
       "      <td>7662</td>\n",
       "    </tr>\n",
       "    <tr>\n",
       "      <th>2</th>\n",
       "      <td>Jet Airways</td>\n",
       "      <td>9/06/2019</td>\n",
       "      <td>Delhi</td>\n",
       "      <td>Cochin</td>\n",
       "      <td>DEL → LKO → BOM → COK</td>\n",
       "      <td>09:25</td>\n",
       "      <td>04:25 10 Jun</td>\n",
       "      <td>19h</td>\n",
       "      <td>2 stops</td>\n",
       "      <td>No info</td>\n",
       "      <td>13882</td>\n",
       "    </tr>\n",
       "    <tr>\n",
       "      <th>3</th>\n",
       "      <td>IndiGo</td>\n",
       "      <td>12/05/2019</td>\n",
       "      <td>Kolkata</td>\n",
       "      <td>Banglore</td>\n",
       "      <td>CCU → NAG → BLR</td>\n",
       "      <td>18:05</td>\n",
       "      <td>23:30</td>\n",
       "      <td>5h 25m</td>\n",
       "      <td>1 stop</td>\n",
       "      <td>No info</td>\n",
       "      <td>6218</td>\n",
       "    </tr>\n",
       "    <tr>\n",
       "      <th>4</th>\n",
       "      <td>IndiGo</td>\n",
       "      <td>01/03/2019</td>\n",
       "      <td>Banglore</td>\n",
       "      <td>New Delhi</td>\n",
       "      <td>BLR → NAG → DEL</td>\n",
       "      <td>16:50</td>\n",
       "      <td>21:35</td>\n",
       "      <td>4h 45m</td>\n",
       "      <td>1 stop</td>\n",
       "      <td>No info</td>\n",
       "      <td>13302</td>\n",
       "    </tr>\n",
       "  </tbody>\n",
       "</table>\n",
       "</div>"
      ],
      "text/plain": [
       "       Airline Date_of_Journey    Source Destination                  Route  \\\n",
       "0       IndiGo      24/03/2019  Banglore   New Delhi              BLR → DEL   \n",
       "1    Air India       1/05/2019   Kolkata    Banglore  CCU → IXR → BBI → BLR   \n",
       "2  Jet Airways       9/06/2019     Delhi      Cochin  DEL → LKO → BOM → COK   \n",
       "3       IndiGo      12/05/2019   Kolkata    Banglore        CCU → NAG → BLR   \n",
       "4       IndiGo      01/03/2019  Banglore   New Delhi        BLR → NAG → DEL   \n",
       "\n",
       "  Dep_Time  Arrival_Time Duration Total_Stops Additional_Info  Price  \n",
       "0    22:20  01:10 22 Mar   2h 50m    non-stop         No info   3897  \n",
       "1    05:50         13:15   7h 25m     2 stops         No info   7662  \n",
       "2    09:25  04:25 10 Jun      19h     2 stops         No info  13882  \n",
       "3    18:05         23:30   5h 25m      1 stop         No info   6218  \n",
       "4    16:50         21:35   4h 45m      1 stop         No info  13302  "
      ]
     },
     "execution_count": 1,
     "metadata": {},
     "output_type": "execute_result"
    }
   ],
   "source": [
    "import pandas as pd\n",
    "import numpy as np\n",
    "\n",
    "\n",
    "df = pd.read_excel('Data_Train.xlsx')\n",
    "\n",
    "df.head()\n"
   ]
  },
  {
   "cell_type": "code",
   "execution_count": 2,
   "id": "f6835932",
   "metadata": {},
   "outputs": [
    {
     "data": {
      "text/plain": [
       "Index(['Airline', 'Date_of_Journey', 'Source', 'Destination', 'Route',\n",
       "       'Dep_Time', 'Arrival_Time', 'Duration', 'Total_Stops',\n",
       "       'Additional_Info', 'Price'],\n",
       "      dtype='object')"
      ]
     },
     "execution_count": 2,
     "metadata": {},
     "output_type": "execute_result"
    }
   ],
   "source": [
    "df.columns"
   ]
  },
  {
   "cell_type": "markdown",
   "id": "bc0d3220",
   "metadata": {},
   "source": [
    "### ✈️ Dataset Columns Overview\n",
    "\n",
    "| Column           | Description                                   | Usefulness for Anomaly Detection                |\n",
    "|------------------|-----------------------------------------------|-------------------------------------------------|\n",
    "| `Airline`        | Airline name (e.g., Jet Airways)              | Grouping factor for price norms                 |\n",
    "| `Date_of_Journey`| Travel date                                   | Needed for **seasonality & trends**             |\n",
    "| `Source`         | Origin city                                   | Helps detect location-based patterns            |\n",
    "| `Destination`    | Arrival city                                  | Same as above                                   |\n",
    "| `Route`          | Route taken (e.g., DEL → BOM → BLR)           | Can indicate complexity of trip                 |\n",
    "| `Dep_Time`       | Departure time                                | Helps track **time-of-day pricing**             |\n",
    "| `Arrival_Time`   | Arrival time                                  | Less useful, but can help with duration         |\n",
    "| `Duration`       | Flight duration                               | Longer flights usually cost more                |\n",
    "| `Total_Stops`    | Number of stops (e.g., non-stop, 1 stop)      | Strong price factor                             |\n",
    "| `Additional_Info`| Misc (e.g., \"No info\", \"In-flight meal not included\") | Might explain anomalies                |\n",
    "| `Price`          | 💰**Target variable**                         | We’ll analyze this for **outliers**             |\n"
   ]
  },
  {
   "cell_type": "code",
   "execution_count": 3,
   "id": "ba162ff3",
   "metadata": {},
   "outputs": [
    {
     "name": "stderr",
     "output_type": "stream",
     "text": [
      "C:\\Users\\DELL XPS\\AppData\\Local\\Temp\\ipykernel_4888\\2436003973.py:10: UserWarning: Could not infer format, so each element will be parsed individually, falling back to `dateutil`. To ensure parsing is consistent and as-expected, please specify a format.\n",
      "  df['Dep_hour'] = pd.to_datetime(df['Dep_Time']).dt.hour\n",
      "C:\\Users\\DELL XPS\\AppData\\Local\\Temp\\ipykernel_4888\\2436003973.py:11: UserWarning: Could not infer format, so each element will be parsed individually, falling back to `dateutil`. To ensure parsing is consistent and as-expected, please specify a format.\n",
      "  df['Dep_minute'] = pd.to_datetime(df['Dep_Time']).dt.minute\n"
     ]
    }
   ],
   "source": [
    "# Convert 'Date' column to datetime format\n",
    "df['Date_of_Journey'] = pd.to_datetime(df['Date_of_Journey'], format='%d/%m/%Y')\n",
    "\n",
    "# Extract year, month, and day from the 'Date' column\n",
    "df['Journey_day'] = df['Date_of_Journey'].dt.day\n",
    "df['Journey_month'] = df['Date_of_Journey'].dt.month\n",
    "df['Journey_weekday'] = df['Date_of_Journey'].dt.weekday\n",
    "\n",
    "# Convert 'Deep_Time' to hours and minutes\n",
    "df['Dep_hour'] = pd.to_datetime(df['Dep_Time']).dt.hour\n",
    "df['Dep_minute'] = pd.to_datetime(df['Dep_Time']).dt.minute\n",
    "\n",
    "# Clean Duration: Convert to total minutes\n",
    "# Some values only have hours or minutes, so we need to handle those cases\n",
    "df['Duration'] = df['Duration'].apply(lambda x: x.replace('h', 'h ')).replace('m', 'm ') # normalize spacing\n",
    "\n",
    "def duration_to_minutes(duration):\n",
    "    hours = 0\n",
    "    minutes = 0\n",
    "    for part in duration.strip().split():\n",
    "        if 'h' in part:\n",
    "            hours = int(part.replace('h', ''))\n",
    "        elif 'm' in part:\n",
    "            minutes = int(part.replace('m', ''))\n",
    "    return hours * 60 + minutes\n",
    "\n",
    "df['Duration_mins'] = df['Duration'].apply(duration_to_minutes)"
   ]
  },
  {
   "cell_type": "code",
   "execution_count": 4,
   "id": "ab295ed0",
   "metadata": {},
   "outputs": [
    {
     "data": {
      "application/vnd.microsoft.datawrangler.viewer.v0+json": {
       "columns": [
        {
         "name": "index",
         "rawType": "int64",
         "type": "integer"
        },
        {
         "name": "Date_of_Journey",
         "rawType": "datetime64[ns]",
         "type": "datetime"
        },
        {
         "name": "Journey_day",
         "rawType": "int32",
         "type": "integer"
        },
        {
         "name": "Journey_month",
         "rawType": "int32",
         "type": "integer"
        },
        {
         "name": "Journey_weekday",
         "rawType": "int32",
         "type": "integer"
        },
        {
         "name": "Dep_Time",
         "rawType": "object",
         "type": "string"
        },
        {
         "name": "Dep_hour",
         "rawType": "int32",
         "type": "integer"
        },
        {
         "name": "Duration",
         "rawType": "object",
         "type": "string"
        },
        {
         "name": "Duration_mins",
         "rawType": "int64",
         "type": "integer"
        }
       ],
       "ref": "a34c120e-4bf7-4de7-94a0-788f71670be1",
       "rows": [
        [
         "0",
         "2019-03-24 00:00:00",
         "24",
         "3",
         "6",
         "22:20",
         "22",
         "2h  50m",
         "170"
        ],
        [
         "1",
         "2019-05-01 00:00:00",
         "1",
         "5",
         "2",
         "05:50",
         "5",
         "7h  25m",
         "445"
        ],
        [
         "2",
         "2019-06-09 00:00:00",
         "9",
         "6",
         "6",
         "09:25",
         "9",
         "19h ",
         "1140"
        ],
        [
         "3",
         "2019-05-12 00:00:00",
         "12",
         "5",
         "6",
         "18:05",
         "18",
         "5h  25m",
         "325"
        ],
        [
         "4",
         "2019-03-01 00:00:00",
         "1",
         "3",
         "4",
         "16:50",
         "16",
         "4h  45m",
         "285"
        ]
       ],
       "shape": {
        "columns": 8,
        "rows": 5
       }
      },
      "text/html": [
       "<div>\n",
       "<style scoped>\n",
       "    .dataframe tbody tr th:only-of-type {\n",
       "        vertical-align: middle;\n",
       "    }\n",
       "\n",
       "    .dataframe tbody tr th {\n",
       "        vertical-align: top;\n",
       "    }\n",
       "\n",
       "    .dataframe thead th {\n",
       "        text-align: right;\n",
       "    }\n",
       "</style>\n",
       "<table border=\"1\" class=\"dataframe\">\n",
       "  <thead>\n",
       "    <tr style=\"text-align: right;\">\n",
       "      <th></th>\n",
       "      <th>Date_of_Journey</th>\n",
       "      <th>Journey_day</th>\n",
       "      <th>Journey_month</th>\n",
       "      <th>Journey_weekday</th>\n",
       "      <th>Dep_Time</th>\n",
       "      <th>Dep_hour</th>\n",
       "      <th>Duration</th>\n",
       "      <th>Duration_mins</th>\n",
       "    </tr>\n",
       "  </thead>\n",
       "  <tbody>\n",
       "    <tr>\n",
       "      <th>0</th>\n",
       "      <td>2019-03-24</td>\n",
       "      <td>24</td>\n",
       "      <td>3</td>\n",
       "      <td>6</td>\n",
       "      <td>22:20</td>\n",
       "      <td>22</td>\n",
       "      <td>2h  50m</td>\n",
       "      <td>170</td>\n",
       "    </tr>\n",
       "    <tr>\n",
       "      <th>1</th>\n",
       "      <td>2019-05-01</td>\n",
       "      <td>1</td>\n",
       "      <td>5</td>\n",
       "      <td>2</td>\n",
       "      <td>05:50</td>\n",
       "      <td>5</td>\n",
       "      <td>7h  25m</td>\n",
       "      <td>445</td>\n",
       "    </tr>\n",
       "    <tr>\n",
       "      <th>2</th>\n",
       "      <td>2019-06-09</td>\n",
       "      <td>9</td>\n",
       "      <td>6</td>\n",
       "      <td>6</td>\n",
       "      <td>09:25</td>\n",
       "      <td>9</td>\n",
       "      <td>19h</td>\n",
       "      <td>1140</td>\n",
       "    </tr>\n",
       "    <tr>\n",
       "      <th>3</th>\n",
       "      <td>2019-05-12</td>\n",
       "      <td>12</td>\n",
       "      <td>5</td>\n",
       "      <td>6</td>\n",
       "      <td>18:05</td>\n",
       "      <td>18</td>\n",
       "      <td>5h  25m</td>\n",
       "      <td>325</td>\n",
       "    </tr>\n",
       "    <tr>\n",
       "      <th>4</th>\n",
       "      <td>2019-03-01</td>\n",
       "      <td>1</td>\n",
       "      <td>3</td>\n",
       "      <td>4</td>\n",
       "      <td>16:50</td>\n",
       "      <td>16</td>\n",
       "      <td>4h  45m</td>\n",
       "      <td>285</td>\n",
       "    </tr>\n",
       "  </tbody>\n",
       "</table>\n",
       "</div>"
      ],
      "text/plain": [
       "  Date_of_Journey  Journey_day  Journey_month  Journey_weekday Dep_Time  \\\n",
       "0      2019-03-24           24              3                6    22:20   \n",
       "1      2019-05-01            1              5                2    05:50   \n",
       "2      2019-06-09            9              6                6    09:25   \n",
       "3      2019-05-12           12              5                6    18:05   \n",
       "4      2019-03-01            1              3                4    16:50   \n",
       "\n",
       "   Dep_hour Duration  Duration_mins  \n",
       "0        22  2h  50m            170  \n",
       "1         5  7h  25m            445  \n",
       "2         9     19h            1140  \n",
       "3        18  5h  25m            325  \n",
       "4        16  4h  45m            285  "
      ]
     },
     "execution_count": 4,
     "metadata": {},
     "output_type": "execute_result"
    }
   ],
   "source": [
    "df[['Date_of_Journey', 'Journey_day', 'Journey_month', 'Journey_weekday', 'Dep_Time', 'Dep_hour', 'Duration', 'Duration_mins']].head()\n"
   ]
  },
  {
   "cell_type": "markdown",
   "id": "f4ee80f1",
   "metadata": {},
   "source": [
    "#### IQR Method for Skwewed Data"
   ]
  },
  {
   "cell_type": "code",
   "execution_count": 6,
   "id": "4fb27fbd",
   "metadata": {},
   "outputs": [
    {
     "data": {
      "application/vnd.microsoft.datawrangler.viewer.v0+json": {
       "columns": [
        {
         "name": "Price_Anomaly_IQR",
         "rawType": "object",
         "type": "string"
        },
        {
         "name": "count",
         "rawType": "int64",
         "type": "integer"
        }
       ],
       "ref": "32d08ce7-a94c-47e5-9be5-f7d3d0068cc0",
       "rows": [
        [
         "Normal",
         "10589"
        ],
        [
         "Anomaly",
         "94"
        ]
       ],
       "shape": {
        "columns": 1,
        "rows": 2
       }
      },
      "text/plain": [
       "Price_Anomaly_IQR\n",
       "Normal     10589\n",
       "Anomaly       94\n",
       "Name: count, dtype: int64"
      ]
     },
     "execution_count": 6,
     "metadata": {},
     "output_type": "execute_result"
    }
   ],
   "source": [
    "# IQR method\n",
    "Q1 = df['Price'].quantile(0.25)\n",
    "Q3 = df['Price'].quantile(0.75)\n",
    "IQR = Q3 - Q1\n",
    "\n",
    "# Define threshold\n",
    "lower_bound = Q1 - 1.5 * IQR\n",
    "upper_bound = Q3 + 1.5 * IQR\n",
    "\n",
    "# Flag anomalies\n",
    "df['Price_Anomaly_IQR'] = df['Price'].apply(lambda x: 'Anomaly' if x < lower_bound or x > upper_bound else 'Normal')\n",
    "\n",
    "\n",
    "# See how many anomalies we have\n",
    "anomaly_count = df['Price_Anomaly_IQR'].value_counts()\n",
    "\n",
    "anomaly_count"
   ]
  },
  {
   "cell_type": "markdown",
   "id": "065963ba",
   "metadata": {},
   "source": [
    "#### Z-Score Method\n"
   ]
  },
  {
   "cell_type": "code",
   "execution_count": 8,
   "id": "6b839126",
   "metadata": {},
   "outputs": [
    {
     "data": {
      "application/vnd.microsoft.datawrangler.viewer.v0+json": {
       "columns": [
        {
         "name": "Price_Anomaly_Z",
         "rawType": "object",
         "type": "string"
        },
        {
         "name": "count",
         "rawType": "int64",
         "type": "integer"
        }
       ],
       "ref": "27c8518d-e6ce-4d73-913b-a394cdcd61a2",
       "rows": [
        [
         "Normal",
         "10587"
        ],
        [
         "Anomaly",
         "96"
        ]
       ],
       "shape": {
        "columns": 1,
        "rows": 2
       }
      },
      "text/plain": [
       "Price_Anomaly_Z\n",
       "Normal     10587\n",
       "Anomaly       96\n",
       "Name: count, dtype: int64"
      ]
     },
     "execution_count": 8,
     "metadata": {},
     "output_type": "execute_result"
    }
   ],
   "source": [
    "from scipy.stats import zscore\n",
    "\n",
    "# Compute z-scores\n",
    "df['Price_zscore'] = zscore(df['Price'])\n",
    "\n",
    "# Flag extreme outliers (typical z > 3 or < -3)\n",
    "df['Price_Anomaly_Z'] = df['Price_zscore'].apply(lambda x: 'Anomaly' if abs(x) > 3 else 'Normal')\n",
    "\n",
    "# See results\n",
    "df['Price_Anomaly_Z'].value_counts()"
   ]
  },
  {
   "cell_type": "code",
   "execution_count": 9,
   "id": "ce86016e",
   "metadata": {},
   "outputs": [
    {
     "data": {
      "application/vnd.microsoft.datawrangler.viewer.v0+json": {
       "columns": [
        {
         "name": "index",
         "rawType": "int64",
         "type": "integer"
        },
        {
         "name": "Airline",
         "rawType": "object",
         "type": "string"
        },
        {
         "name": "Source",
         "rawType": "object",
         "type": "string"
        },
        {
         "name": "Destination",
         "rawType": "object",
         "type": "string"
        },
        {
         "name": "Duration",
         "rawType": "object",
         "type": "string"
        },
        {
         "name": "Total_Stops",
         "rawType": "object",
         "type": "string"
        },
        {
         "name": "Price",
         "rawType": "int64",
         "type": "integer"
        }
       ],
       "ref": "70e38544-d1f8-4e7f-a66d-31d41725e619",
       "rows": [
        [
         "4676",
         "Jet Airways",
         "Mumbai",
         "Hyderabad",
         "23h  35m",
         "2 stops",
         "22950"
        ],
        [
         "8856",
         "Jet Airways",
         "Banglore",
         "New Delhi",
         "7h ",
         "2 stops",
         "23001"
        ],
        [
         "8020",
         "Multiple carriers",
         "Delhi",
         "Cochin",
         "15h  10m",
         "1 stop",
         "23170"
        ],
        [
         "5136",
         "SpiceJet",
         "Banglore",
         "New Delhi",
         "7h  55m",
         "1 stop",
         "23267"
        ],
        [
         "8990",
         "Jet Airways",
         "Mumbai",
         "Hyderabad",
         "10h  5m",
         "2 stops",
         "23528"
        ],
        [
         "1341",
         "Multiple carriers",
         "Delhi",
         "Cochin",
         "6h  35m",
         "1 stop",
         "23533"
        ],
        [
         "1196",
         "Multiple carriers",
         "Delhi",
         "Cochin",
         "7h  45m",
         "2 stops",
         "23583"
        ],
        [
         "10182",
         "Air India",
         "Banglore",
         "New Delhi",
         "5h  30m",
         "1 stop",
         "23677"
        ],
        [
         "5738",
         "Jet Airways",
         "Mumbai",
         "Hyderabad",
         "8h  20m",
         "2 stops",
         "23843"
        ],
        [
         "9974",
         "Air India",
         "Delhi",
         "Cochin",
         "23h  40m",
         "1 stop",
         "24017"
        ],
        [
         "1424",
         "Jet Airways",
         "Mumbai",
         "Hyderabad",
         "26h  30m",
         "2 stops",
         "24115"
        ],
        [
         "10353",
         "Jet Airways",
         "Mumbai",
         "Hyderabad",
         "21h ",
         "2 stops",
         "24210"
        ],
        [
         "10160",
         "Multiple carriers",
         "Delhi",
         "Cochin",
         "8h  35m",
         "1 stop",
         "24318"
        ],
        [
         "8080",
         "Multiple carriers",
         "Delhi",
         "Cochin",
         "7h  45m",
         "2 stops",
         "24528"
        ],
        [
         "597",
         "Air India",
         "Mumbai",
         "Hyderabad",
         "29h  35m",
         "2 stops",
         "25139"
        ],
        [
         "2055",
         "Air India",
         "Banglore",
         "New Delhi",
         "24h  35m",
         "2 stops",
         "25430"
        ],
        [
         "5701",
         "Air India",
         "Banglore",
         "New Delhi",
         "38h  35m",
         "2 stops",
         "25430"
        ],
        [
         "8940",
         "Air India",
         "Banglore",
         "New Delhi",
         "2h  45m",
         "non-stop",
         "25703"
        ],
        [
         "1466",
         "Jet Airways",
         "Banglore",
         "New Delhi",
         "21h  50m",
         "1 stop",
         "25735"
        ],
        [
         "6407",
         "Jet Airways",
         "Banglore",
         "New Delhi",
         "22h  30m",
         "1 stop",
         "25735"
        ],
        [
         "6314",
         "Jet Airways",
         "Banglore",
         "New Delhi",
         "23h  45m",
         "1 stop",
         "25735"
        ],
        [
         "5856",
         "Jet Airways",
         "Banglore",
         "New Delhi",
         "22h  45m",
         "1 stop",
         "25735"
        ],
        [
         "8536",
         "Jet Airways",
         "Banglore",
         "New Delhi",
         "19h  25m",
         "1 stop",
         "25735"
        ],
        [
         "936",
         "Jet Airways",
         "Banglore",
         "New Delhi",
         "20h  20m",
         "1 stop",
         "25735"
        ],
        [
         "9239",
         "Jet Airways",
         "Banglore",
         "New Delhi",
         "24h  10m",
         "1 stop",
         "25735"
        ],
        [
         "4521",
         "Jet Airways",
         "Banglore",
         "New Delhi",
         "16h  5m",
         "1 stop",
         "25735"
        ],
        [
         "2556",
         "Jet Airways",
         "Banglore",
         "New Delhi",
         "17h  30m",
         "1 stop",
         "25735"
        ],
        [
         "3400",
         "Jet Airways",
         "Banglore",
         "New Delhi",
         "21h  30m",
         "1 stop",
         "25735"
        ],
        [
         "4012",
         "Air India",
         "Banglore",
         "New Delhi",
         "2h  45m",
         "non-stop",
         "25913"
        ],
        [
         "3535",
         "Air India",
         "Banglore",
         "New Delhi",
         "12h  5m",
         "1 stop",
         "26092"
        ],
        [
         "10511",
         "Air India",
         "Banglore",
         "New Delhi",
         "26h  40m",
         "2 stops",
         "26480"
        ],
        [
         "785",
         "Air India",
         "Banglore",
         "New Delhi",
         "14h  35m",
         "2 stops",
         "26743"
        ],
        [
         "7537",
         "Jet Airways",
         "Banglore",
         "New Delhi",
         "12h  40m",
         "1 stop",
         "26890"
        ],
        [
         "7554",
         "Jet Airways",
         "Banglore",
         "New Delhi",
         "10h  40m",
         "1 stop",
         "26890"
        ],
        [
         "7713",
         "Jet Airways",
         "Banglore",
         "New Delhi",
         "11h  25m",
         "1 stop",
         "26890"
        ],
        [
         "7756",
         "Jet Airways",
         "Banglore",
         "New Delhi",
         "8h  15m",
         "1 stop",
         "26890"
        ],
        [
         "7902",
         "Jet Airways",
         "Banglore",
         "New Delhi",
         "7h  50m",
         "1 stop",
         "26890"
        ],
        [
         "1246",
         "Jet Airways",
         "Banglore",
         "New Delhi",
         "7h  15m",
         "1 stop",
         "26890"
        ],
        [
         "5745",
         "Jet Airways",
         "Banglore",
         "New Delhi",
         "10h  25m",
         "1 stop",
         "26890"
        ],
        [
         "1785",
         "Jet Airways",
         "Banglore",
         "New Delhi",
         "6h  45m",
         "1 stop",
         "26890"
        ],
        [
         "975",
         "Jet Airways",
         "Banglore",
         "New Delhi",
         "25h  55m",
         "1 stop",
         "26890"
        ],
        [
         "5710",
         "Jet Airways",
         "Banglore",
         "New Delhi",
         "15h  50m",
         "1 stop",
         "26890"
        ],
        [
         "8451",
         "Jet Airways",
         "Banglore",
         "New Delhi",
         "6h  15m",
         "1 stop",
         "26890"
        ],
        [
         "959",
         "Jet Airways",
         "Banglore",
         "New Delhi",
         "13h  5m",
         "1 stop",
         "26890"
        ],
        [
         "826",
         "Jet Airways",
         "Banglore",
         "New Delhi",
         "10h  25m",
         "1 stop",
         "26890"
        ],
        [
         "8957",
         "Jet Airways",
         "Banglore",
         "New Delhi",
         "20h  10m",
         "1 stop",
         "26890"
        ],
        [
         "1918",
         "Jet Airways",
         "Banglore",
         "New Delhi",
         "15h  20m",
         "1 stop",
         "26890"
        ],
        [
         "2495",
         "Jet Airways",
         "Banglore",
         "New Delhi",
         "14h  45m",
         "1 stop",
         "26890"
        ],
        [
         "10113",
         "Jet Airways",
         "Banglore",
         "New Delhi",
         "6h  15m",
         "1 stop",
         "26890"
        ],
        [
         "510",
         "Jet Airways",
         "Banglore",
         "New Delhi",
         "5h  25m",
         "1 stop",
         "26890"
        ]
       ],
       "shape": {
        "columns": 6,
        "rows": 96
       }
      },
      "text/html": [
       "<div>\n",
       "<style scoped>\n",
       "    .dataframe tbody tr th:only-of-type {\n",
       "        vertical-align: middle;\n",
       "    }\n",
       "\n",
       "    .dataframe tbody tr th {\n",
       "        vertical-align: top;\n",
       "    }\n",
       "\n",
       "    .dataframe thead th {\n",
       "        text-align: right;\n",
       "    }\n",
       "</style>\n",
       "<table border=\"1\" class=\"dataframe\">\n",
       "  <thead>\n",
       "    <tr style=\"text-align: right;\">\n",
       "      <th></th>\n",
       "      <th>Airline</th>\n",
       "      <th>Source</th>\n",
       "      <th>Destination</th>\n",
       "      <th>Duration</th>\n",
       "      <th>Total_Stops</th>\n",
       "      <th>Price</th>\n",
       "    </tr>\n",
       "  </thead>\n",
       "  <tbody>\n",
       "    <tr>\n",
       "      <th>4676</th>\n",
       "      <td>Jet Airways</td>\n",
       "      <td>Mumbai</td>\n",
       "      <td>Hyderabad</td>\n",
       "      <td>23h  35m</td>\n",
       "      <td>2 stops</td>\n",
       "      <td>22950</td>\n",
       "    </tr>\n",
       "    <tr>\n",
       "      <th>8856</th>\n",
       "      <td>Jet Airways</td>\n",
       "      <td>Banglore</td>\n",
       "      <td>New Delhi</td>\n",
       "      <td>7h</td>\n",
       "      <td>2 stops</td>\n",
       "      <td>23001</td>\n",
       "    </tr>\n",
       "    <tr>\n",
       "      <th>8020</th>\n",
       "      <td>Multiple carriers</td>\n",
       "      <td>Delhi</td>\n",
       "      <td>Cochin</td>\n",
       "      <td>15h  10m</td>\n",
       "      <td>1 stop</td>\n",
       "      <td>23170</td>\n",
       "    </tr>\n",
       "    <tr>\n",
       "      <th>5136</th>\n",
       "      <td>SpiceJet</td>\n",
       "      <td>Banglore</td>\n",
       "      <td>New Delhi</td>\n",
       "      <td>7h  55m</td>\n",
       "      <td>1 stop</td>\n",
       "      <td>23267</td>\n",
       "    </tr>\n",
       "    <tr>\n",
       "      <th>8990</th>\n",
       "      <td>Jet Airways</td>\n",
       "      <td>Mumbai</td>\n",
       "      <td>Hyderabad</td>\n",
       "      <td>10h  5m</td>\n",
       "      <td>2 stops</td>\n",
       "      <td>23528</td>\n",
       "    </tr>\n",
       "    <tr>\n",
       "      <th>...</th>\n",
       "      <td>...</td>\n",
       "      <td>...</td>\n",
       "      <td>...</td>\n",
       "      <td>...</td>\n",
       "      <td>...</td>\n",
       "      <td>...</td>\n",
       "    </tr>\n",
       "    <tr>\n",
       "      <th>1478</th>\n",
       "      <td>Jet Airways</td>\n",
       "      <td>Banglore</td>\n",
       "      <td>New Delhi</td>\n",
       "      <td>6h  5m</td>\n",
       "      <td>1 stop</td>\n",
       "      <td>54826</td>\n",
       "    </tr>\n",
       "    <tr>\n",
       "      <th>2618</th>\n",
       "      <td>Jet Airways</td>\n",
       "      <td>Banglore</td>\n",
       "      <td>New Delhi</td>\n",
       "      <td>6h  15m</td>\n",
       "      <td>1 stop</td>\n",
       "      <td>54826</td>\n",
       "    </tr>\n",
       "    <tr>\n",
       "      <th>10364</th>\n",
       "      <td>Jet Airways Business</td>\n",
       "      <td>Banglore</td>\n",
       "      <td>New Delhi</td>\n",
       "      <td>4h  40m</td>\n",
       "      <td>1 stop</td>\n",
       "      <td>57209</td>\n",
       "    </tr>\n",
       "    <tr>\n",
       "      <th>5372</th>\n",
       "      <td>Jet Airways Business</td>\n",
       "      <td>Banglore</td>\n",
       "      <td>New Delhi</td>\n",
       "      <td>6h  40m</td>\n",
       "      <td>1 stop</td>\n",
       "      <td>62427</td>\n",
       "    </tr>\n",
       "    <tr>\n",
       "      <th>2924</th>\n",
       "      <td>Jet Airways Business</td>\n",
       "      <td>Banglore</td>\n",
       "      <td>New Delhi</td>\n",
       "      <td>5h  40m</td>\n",
       "      <td>1 stop</td>\n",
       "      <td>79512</td>\n",
       "    </tr>\n",
       "  </tbody>\n",
       "</table>\n",
       "<p>96 rows × 6 columns</p>\n",
       "</div>"
      ],
      "text/plain": [
       "                    Airline    Source Destination  Duration Total_Stops  Price\n",
       "4676            Jet Airways    Mumbai   Hyderabad  23h  35m     2 stops  22950\n",
       "8856            Jet Airways  Banglore   New Delhi       7h      2 stops  23001\n",
       "8020      Multiple carriers     Delhi      Cochin  15h  10m      1 stop  23170\n",
       "5136               SpiceJet  Banglore   New Delhi   7h  55m      1 stop  23267\n",
       "8990            Jet Airways    Mumbai   Hyderabad   10h  5m     2 stops  23528\n",
       "...                     ...       ...         ...       ...         ...    ...\n",
       "1478            Jet Airways  Banglore   New Delhi    6h  5m      1 stop  54826\n",
       "2618            Jet Airways  Banglore   New Delhi   6h  15m      1 stop  54826\n",
       "10364  Jet Airways Business  Banglore   New Delhi   4h  40m      1 stop  57209\n",
       "5372   Jet Airways Business  Banglore   New Delhi   6h  40m      1 stop  62427\n",
       "2924   Jet Airways Business  Banglore   New Delhi   5h  40m      1 stop  79512\n",
       "\n",
       "[96 rows x 6 columns]"
      ]
     },
     "execution_count": 9,
     "metadata": {},
     "output_type": "execute_result"
    }
   ],
   "source": [
    "# Using IQR\n",
    "df[df['Price_Anomaly_IQR'] == 'Anomaly'][['Airline', 'Source', 'Destination', 'Duration', 'Total_Stops', 'Price']].sort_values(by='Price')\n",
    "\n",
    "# Or using Z-score\n",
    "df[df['Price_Anomaly_Z'] == 'Anomaly'][['Airline', 'Source', 'Destination', 'Duration', 'Total_Stops', 'Price']].sort_values(by='Price')\n"
   ]
  },
  {
   "cell_type": "markdown",
   "id": "a4ddb81c",
   "metadata": {},
   "source": [
    "#### This tells us:\n",
    "\n",
    "- Both methods agree pretty well (only a small difference).\n",
    "\n",
    "- Roughly 0.9% of the flights were flagged as pricing outliers.\n",
    "\n",
    "- We're now able to detect price anomalies in a clean and explainable way — no black-box needed 🔥\n",
    "\n",
    "\n",
    "\n",
    "### High-Opportunity Flights (Scoring System)\n",
    "\n",
    "Let’s say your goal is to **flag the best “deals”** (e.g., prices that are **unusually low** given the route, duration, etc.).\n",
    "\n",
    "We can build a simple **price efficiency** score.\n",
    "\n",
    "\n",
    "#### 💡 Idea: Price per Minute Score (lower = better deal)\n"
   ]
  },
  {
   "cell_type": "code",
   "execution_count": 10,
   "id": "f705cb28",
   "metadata": {},
   "outputs": [
    {
     "data": {
      "application/vnd.microsoft.datawrangler.viewer.v0+json": {
       "columns": [
        {
         "name": "index",
         "rawType": "int64",
         "type": "integer"
        },
        {
         "name": "Airline",
         "rawType": "object",
         "type": "string"
        },
        {
         "name": "Source",
         "rawType": "object",
         "type": "string"
        },
        {
         "name": "Destination",
         "rawType": "object",
         "type": "string"
        },
        {
         "name": "Duration",
         "rawType": "object",
         "type": "string"
        },
        {
         "name": "Price",
         "rawType": "int64",
         "type": "integer"
        },
        {
         "name": "Price_per_minute",
         "rawType": "float64",
         "type": "float"
        }
       ],
       "ref": "cc97db66-a5b7-4024-8f42-d57348ecd434",
       "rows": [
        [
         "10566",
         "Air India",
         "Delhi",
         "Cochin",
         "27h  20m",
         "4487",
         "2.7359756097560974"
        ],
        [
         "274",
         "Air India",
         "Delhi",
         "Cochin",
         "27h  20m",
         "4487",
         "2.7359756097560974"
        ],
        [
         "1571",
         "Air India",
         "Kolkata",
         "Banglore",
         "25h  55m",
         "4647",
         "2.9884244372990354"
        ],
        [
         "61",
         "Air India",
         "Delhi",
         "Cochin",
         "27h  20m",
         "5117",
         "3.120121951219512"
        ],
        [
         "9819",
         "Air India",
         "Delhi",
         "Cochin",
         "27h  20m",
         "5117",
         "3.120121951219512"
        ]
       ],
       "shape": {
        "columns": 6,
        "rows": 5
       }
      },
      "text/html": [
       "<div>\n",
       "<style scoped>\n",
       "    .dataframe tbody tr th:only-of-type {\n",
       "        vertical-align: middle;\n",
       "    }\n",
       "\n",
       "    .dataframe tbody tr th {\n",
       "        vertical-align: top;\n",
       "    }\n",
       "\n",
       "    .dataframe thead th {\n",
       "        text-align: right;\n",
       "    }\n",
       "</style>\n",
       "<table border=\"1\" class=\"dataframe\">\n",
       "  <thead>\n",
       "    <tr style=\"text-align: right;\">\n",
       "      <th></th>\n",
       "      <th>Airline</th>\n",
       "      <th>Source</th>\n",
       "      <th>Destination</th>\n",
       "      <th>Duration</th>\n",
       "      <th>Price</th>\n",
       "      <th>Price_per_minute</th>\n",
       "    </tr>\n",
       "  </thead>\n",
       "  <tbody>\n",
       "    <tr>\n",
       "      <th>10566</th>\n",
       "      <td>Air India</td>\n",
       "      <td>Delhi</td>\n",
       "      <td>Cochin</td>\n",
       "      <td>27h  20m</td>\n",
       "      <td>4487</td>\n",
       "      <td>2.735976</td>\n",
       "    </tr>\n",
       "    <tr>\n",
       "      <th>274</th>\n",
       "      <td>Air India</td>\n",
       "      <td>Delhi</td>\n",
       "      <td>Cochin</td>\n",
       "      <td>27h  20m</td>\n",
       "      <td>4487</td>\n",
       "      <td>2.735976</td>\n",
       "    </tr>\n",
       "    <tr>\n",
       "      <th>1571</th>\n",
       "      <td>Air India</td>\n",
       "      <td>Kolkata</td>\n",
       "      <td>Banglore</td>\n",
       "      <td>25h  55m</td>\n",
       "      <td>4647</td>\n",
       "      <td>2.988424</td>\n",
       "    </tr>\n",
       "    <tr>\n",
       "      <th>61</th>\n",
       "      <td>Air India</td>\n",
       "      <td>Delhi</td>\n",
       "      <td>Cochin</td>\n",
       "      <td>27h  20m</td>\n",
       "      <td>5117</td>\n",
       "      <td>3.120122</td>\n",
       "    </tr>\n",
       "    <tr>\n",
       "      <th>9819</th>\n",
       "      <td>Air India</td>\n",
       "      <td>Delhi</td>\n",
       "      <td>Cochin</td>\n",
       "      <td>27h  20m</td>\n",
       "      <td>5117</td>\n",
       "      <td>3.120122</td>\n",
       "    </tr>\n",
       "  </tbody>\n",
       "</table>\n",
       "</div>"
      ],
      "text/plain": [
       "         Airline   Source Destination  Duration  Price  Price_per_minute\n",
       "10566  Air India    Delhi      Cochin  27h  20m   4487          2.735976\n",
       "274    Air India    Delhi      Cochin  27h  20m   4487          2.735976\n",
       "1571   Air India  Kolkata    Banglore  25h  55m   4647          2.988424\n",
       "61     Air India    Delhi      Cochin  27h  20m   5117          3.120122\n",
       "9819   Air India    Delhi      Cochin  27h  20m   5117          3.120122"
      ]
     },
     "execution_count": 10,
     "metadata": {},
     "output_type": "execute_result"
    }
   ],
   "source": [
    "# Avoid division by zero\n",
    "df['Price_per_minute'] = df['Price'] / df['Duration_mins'].replace(0, np.nan)\n",
    "\n",
    "# Sort by best deala\n",
    "best_deals = df.sort_values(by='Price_per_minute').head()\n",
    "\n",
    "# Show top \"cheap per minute\" flights\n",
    "best_deals[['Airline', 'Source', 'Destination', 'Duration', 'Price', 'Price_per_minute']]"
   ]
  },
  {
   "cell_type": "code",
   "execution_count": 11,
   "id": "05523358",
   "metadata": {},
   "outputs": [
    {
     "data": {
      "application/vnd.microsoft.datawrangler.viewer.v0+json": {
       "columns": [
        {
         "name": "index",
         "rawType": "int64",
         "type": "integer"
        },
        {
         "name": "Airline",
         "rawType": "object",
         "type": "string"
        },
        {
         "name": "Source",
         "rawType": "object",
         "type": "string"
        },
        {
         "name": "Destination",
         "rawType": "object",
         "type": "string"
        },
        {
         "name": "Duration",
         "rawType": "object",
         "type": "string"
        },
        {
         "name": "Price",
         "rawType": "int64",
         "type": "integer"
        },
        {
         "name": "Price_per_minute",
         "rawType": "float64",
         "type": "float"
        }
       ],
       "ref": "8735b6f1-0047-4464-aece-5f5dbd3885a1",
       "rows": [],
       "shape": {
        "columns": 6,
        "rows": 0
       }
      },
      "text/html": [
       "<div>\n",
       "<style scoped>\n",
       "    .dataframe tbody tr th:only-of-type {\n",
       "        vertical-align: middle;\n",
       "    }\n",
       "\n",
       "    .dataframe tbody tr th {\n",
       "        vertical-align: top;\n",
       "    }\n",
       "\n",
       "    .dataframe thead th {\n",
       "        text-align: right;\n",
       "    }\n",
       "</style>\n",
       "<table border=\"1\" class=\"dataframe\">\n",
       "  <thead>\n",
       "    <tr style=\"text-align: right;\">\n",
       "      <th></th>\n",
       "      <th>Airline</th>\n",
       "      <th>Source</th>\n",
       "      <th>Destination</th>\n",
       "      <th>Duration</th>\n",
       "      <th>Price</th>\n",
       "      <th>Price_per_minute</th>\n",
       "    </tr>\n",
       "  </thead>\n",
       "  <tbody>\n",
       "  </tbody>\n",
       "</table>\n",
       "</div>"
      ],
      "text/plain": [
       "Empty DataFrame\n",
       "Columns: [Airline, Source, Destination, Duration, Price, Price_per_minute]\n",
       "Index: []"
      ]
     },
     "execution_count": 11,
     "metadata": {},
     "output_type": "execute_result"
    }
   ],
   "source": [
    "# Cheap and unusual\n",
    "df[(df['Price_Anomaly_IQR'] == 'Anomaly') & (df['Price_per_minute'] < df['Price_per_minute'].quantile(0.25))][\n",
    "    ['Airline', 'Source', 'Destination', 'Duration', 'Price', 'Price_per_minute']\n",
    "].sort_values(by='Price_per_minute')\n"
   ]
  },
  {
   "cell_type": "markdown",
   "id": "362f0b3c",
   "metadata": {},
   "source": [
    "### 🔍 What Could Be Happening?\n",
    "1. Most \"anomalies\" were likely high prices, not low deals.\n",
    "\n",
    "2. Our lowest Price_per_minute flights might be within the normal price range — not flagged as anomalies.\n",
    "\n",
    "Let’s check this step-by-step to confirm:\n",
    "\n",
    "\n",
    "### Step 1: Were Most IQR Anomalies High Prices"
   ]
  },
  {
   "cell_type": "code",
   "execution_count": 12,
   "id": "5c200ee6",
   "metadata": {},
   "outputs": [
    {
     "data": {
      "application/vnd.microsoft.datawrangler.viewer.v0+json": {
       "columns": [
        {
         "name": "index",
         "rawType": "object",
         "type": "string"
        },
        {
         "name": "Price",
         "rawType": "float64",
         "type": "float"
        }
       ],
       "ref": "a07b3508-0e96-4c36-b523-89628bb831ec",
       "rows": [
        [
         "count",
         "94.0"
        ],
        [
         "mean",
         "30423.042553191488"
        ],
        [
         "std",
         "9652.314368317911"
        ],
        [
         "min",
         "23170.0"
        ],
        [
         "25%",
         "25735.0"
        ],
        [
         "50%",
         "26890.0"
        ],
        [
         "75%",
         "31219.25"
        ],
        [
         "max",
         "79512.0"
        ]
       ],
       "shape": {
        "columns": 1,
        "rows": 8
       }
      },
      "text/plain": [
       "count       94.000000\n",
       "mean     30423.042553\n",
       "std       9652.314368\n",
       "min      23170.000000\n",
       "25%      25735.000000\n",
       "50%      26890.000000\n",
       "75%      31219.250000\n",
       "max      79512.000000\n",
       "Name: Price, dtype: float64"
      ]
     },
     "execution_count": 12,
     "metadata": {},
     "output_type": "execute_result"
    }
   ],
   "source": [
    "# Check the prices of IQR anomalies\n",
    "df[df['Price_Anomaly_IQR'] == 'Anomaly']['Price'].describe()"
   ]
  },
  {
   "cell_type": "markdown",
   "id": "507f5d90",
   "metadata": {},
   "source": [
    "✅ All 94 price anomalies flagged by the IQR method are high-priced flights — not underpriced deals.\n",
    "\n",
    "Let’s break this down:\n",
    "\n",
    "| Metric        | Value  |\n",
    "| ------------- | ------ |\n",
    "| **Min Price** | 23,170 |\n",
    "| **Max Price** | 79,512 |\n",
    "| **Median**    | 26,890 |\n",
    "| **Mean**      | 30,423 |\n",
    "| **Std Dev**   | 9,652  |\n",
    "\n",
    "✅ This tells us:\n",
    "\n",
    "- All price anomalies are on the higher end.\n",
    "\n",
    "- Even the lowest “anomaly” is $23,170, which is above the overall IQR threshold.\n",
    "\n",
    "**✅ What to Do Instead**\n",
    "Since there are no cheap flights being flagged as anomalies, let’s focus on finding great deals even if they’re not anomalies.\n",
    "\n",
    "#### 💡 Show the Cheapest Flights (Price per Minute)"
   ]
  },
  {
   "cell_type": "code",
   "execution_count": 13,
   "id": "005268cd",
   "metadata": {},
   "outputs": [
    {
     "data": {
      "application/vnd.microsoft.datawrangler.viewer.v0+json": {
       "columns": [
        {
         "name": "index",
         "rawType": "int64",
         "type": "integer"
        },
        {
         "name": "Airline",
         "rawType": "object",
         "type": "string"
        },
        {
         "name": "Source",
         "rawType": "object",
         "type": "string"
        },
        {
         "name": "Destination",
         "rawType": "object",
         "type": "string"
        },
        {
         "name": "Duration",
         "rawType": "object",
         "type": "string"
        },
        {
         "name": "Price",
         "rawType": "int64",
         "type": "integer"
        },
        {
         "name": "Price_per_minute",
         "rawType": "float64",
         "type": "float"
        }
       ],
       "ref": "b3e0b4af-db6c-4f71-93c0-a7bd320db2f6",
       "rows": [
        [
         "10566",
         "Air India",
         "Delhi",
         "Cochin",
         "27h  20m",
         "4487",
         "2.7359756097560974"
        ],
        [
         "274",
         "Air India",
         "Delhi",
         "Cochin",
         "27h  20m",
         "4487",
         "2.7359756097560974"
        ],
        [
         "1571",
         "Air India",
         "Kolkata",
         "Banglore",
         "25h  55m",
         "4647",
         "2.9884244372990354"
        ],
        [
         "61",
         "Air India",
         "Delhi",
         "Cochin",
         "27h  20m",
         "5117",
         "3.120121951219512"
        ],
        [
         "9819",
         "Air India",
         "Delhi",
         "Cochin",
         "27h  20m",
         "5117",
         "3.120121951219512"
        ],
        [
         "926",
         "Air India",
         "Delhi",
         "Cochin",
         "26h  30m",
         "5022",
         "3.158490566037736"
        ],
        [
         "6747",
         "Air India",
         "Delhi",
         "Cochin",
         "26h  30m",
         "5022",
         "3.158490566037736"
        ],
        [
         "4591",
         "Jet Airways",
         "Delhi",
         "Cochin",
         "27h  35m",
         "5406",
         "3.266465256797583"
        ],
        [
         "5230",
         "Jet Airways",
         "Delhi",
         "Cochin",
         "26h  10m",
         "5177",
         "3.297452229299363"
        ],
        [
         "5346",
         "Jet Airways",
         "Delhi",
         "Cochin",
         "33h  15m",
         "6643",
         "3.329824561403509"
        ]
       ],
       "shape": {
        "columns": 6,
        "rows": 10
       }
      },
      "text/html": [
       "<div>\n",
       "<style scoped>\n",
       "    .dataframe tbody tr th:only-of-type {\n",
       "        vertical-align: middle;\n",
       "    }\n",
       "\n",
       "    .dataframe tbody tr th {\n",
       "        vertical-align: top;\n",
       "    }\n",
       "\n",
       "    .dataframe thead th {\n",
       "        text-align: right;\n",
       "    }\n",
       "</style>\n",
       "<table border=\"1\" class=\"dataframe\">\n",
       "  <thead>\n",
       "    <tr style=\"text-align: right;\">\n",
       "      <th></th>\n",
       "      <th>Airline</th>\n",
       "      <th>Source</th>\n",
       "      <th>Destination</th>\n",
       "      <th>Duration</th>\n",
       "      <th>Price</th>\n",
       "      <th>Price_per_minute</th>\n",
       "    </tr>\n",
       "  </thead>\n",
       "  <tbody>\n",
       "    <tr>\n",
       "      <th>10566</th>\n",
       "      <td>Air India</td>\n",
       "      <td>Delhi</td>\n",
       "      <td>Cochin</td>\n",
       "      <td>27h  20m</td>\n",
       "      <td>4487</td>\n",
       "      <td>2.735976</td>\n",
       "    </tr>\n",
       "    <tr>\n",
       "      <th>274</th>\n",
       "      <td>Air India</td>\n",
       "      <td>Delhi</td>\n",
       "      <td>Cochin</td>\n",
       "      <td>27h  20m</td>\n",
       "      <td>4487</td>\n",
       "      <td>2.735976</td>\n",
       "    </tr>\n",
       "    <tr>\n",
       "      <th>1571</th>\n",
       "      <td>Air India</td>\n",
       "      <td>Kolkata</td>\n",
       "      <td>Banglore</td>\n",
       "      <td>25h  55m</td>\n",
       "      <td>4647</td>\n",
       "      <td>2.988424</td>\n",
       "    </tr>\n",
       "    <tr>\n",
       "      <th>61</th>\n",
       "      <td>Air India</td>\n",
       "      <td>Delhi</td>\n",
       "      <td>Cochin</td>\n",
       "      <td>27h  20m</td>\n",
       "      <td>5117</td>\n",
       "      <td>3.120122</td>\n",
       "    </tr>\n",
       "    <tr>\n",
       "      <th>9819</th>\n",
       "      <td>Air India</td>\n",
       "      <td>Delhi</td>\n",
       "      <td>Cochin</td>\n",
       "      <td>27h  20m</td>\n",
       "      <td>5117</td>\n",
       "      <td>3.120122</td>\n",
       "    </tr>\n",
       "    <tr>\n",
       "      <th>926</th>\n",
       "      <td>Air India</td>\n",
       "      <td>Delhi</td>\n",
       "      <td>Cochin</td>\n",
       "      <td>26h  30m</td>\n",
       "      <td>5022</td>\n",
       "      <td>3.158491</td>\n",
       "    </tr>\n",
       "    <tr>\n",
       "      <th>6747</th>\n",
       "      <td>Air India</td>\n",
       "      <td>Delhi</td>\n",
       "      <td>Cochin</td>\n",
       "      <td>26h  30m</td>\n",
       "      <td>5022</td>\n",
       "      <td>3.158491</td>\n",
       "    </tr>\n",
       "    <tr>\n",
       "      <th>4591</th>\n",
       "      <td>Jet Airways</td>\n",
       "      <td>Delhi</td>\n",
       "      <td>Cochin</td>\n",
       "      <td>27h  35m</td>\n",
       "      <td>5406</td>\n",
       "      <td>3.266465</td>\n",
       "    </tr>\n",
       "    <tr>\n",
       "      <th>5230</th>\n",
       "      <td>Jet Airways</td>\n",
       "      <td>Delhi</td>\n",
       "      <td>Cochin</td>\n",
       "      <td>26h  10m</td>\n",
       "      <td>5177</td>\n",
       "      <td>3.297452</td>\n",
       "    </tr>\n",
       "    <tr>\n",
       "      <th>5346</th>\n",
       "      <td>Jet Airways</td>\n",
       "      <td>Delhi</td>\n",
       "      <td>Cochin</td>\n",
       "      <td>33h  15m</td>\n",
       "      <td>6643</td>\n",
       "      <td>3.329825</td>\n",
       "    </tr>\n",
       "  </tbody>\n",
       "</table>\n",
       "</div>"
      ],
      "text/plain": [
       "           Airline   Source Destination  Duration  Price  Price_per_minute\n",
       "10566    Air India    Delhi      Cochin  27h  20m   4487          2.735976\n",
       "274      Air India    Delhi      Cochin  27h  20m   4487          2.735976\n",
       "1571     Air India  Kolkata    Banglore  25h  55m   4647          2.988424\n",
       "61       Air India    Delhi      Cochin  27h  20m   5117          3.120122\n",
       "9819     Air India    Delhi      Cochin  27h  20m   5117          3.120122\n",
       "926      Air India    Delhi      Cochin  26h  30m   5022          3.158491\n",
       "6747     Air India    Delhi      Cochin  26h  30m   5022          3.158491\n",
       "4591   Jet Airways    Delhi      Cochin  27h  35m   5406          3.266465\n",
       "5230   Jet Airways    Delhi      Cochin  26h  10m   5177          3.297452\n",
       "5346   Jet Airways    Delhi      Cochin  33h  15m   6643          3.329825"
      ]
     },
     "execution_count": 13,
     "metadata": {},
     "output_type": "execute_result"
    }
   ],
   "source": [
    "df.sort_values(by='Price_per_minute').head(10)[\n",
    "    ['Airline', 'Source', 'Destination', 'Duration', 'Price', 'Price_per_minute']\n",
    "]\n"
   ]
  },
  {
   "cell_type": "markdown",
   "id": "053cdbeb",
   "metadata": {},
   "source": [
    "### 🔁 Optional: Flag “Good Deals” Based on Logic"
   ]
  },
  {
   "cell_type": "code",
   "execution_count": 14,
   "id": "5971b888",
   "metadata": {},
   "outputs": [
    {
     "data": {
      "application/vnd.microsoft.datawrangler.viewer.v0+json": {
       "columns": [
        {
         "name": "index",
         "rawType": "int64",
         "type": "integer"
        },
        {
         "name": "Airline",
         "rawType": "object",
         "type": "string"
        },
        {
         "name": "Source",
         "rawType": "object",
         "type": "string"
        },
        {
         "name": "Destination",
         "rawType": "object",
         "type": "string"
        },
        {
         "name": "Duration",
         "rawType": "object",
         "type": "string"
        },
        {
         "name": "Price",
         "rawType": "int64",
         "type": "integer"
        },
        {
         "name": "Price_per_minute",
         "rawType": "float64",
         "type": "float"
        }
       ],
       "ref": "c208f11e-3da7-4934-b71c-84c26e9a99e8",
       "rows": [
        [
         "274",
         "Air India",
         "Delhi",
         "Cochin",
         "27h  20m",
         "4487",
         "2.7359756097560974"
        ],
        [
         "10566",
         "Air India",
         "Delhi",
         "Cochin",
         "27h  20m",
         "4487",
         "2.7359756097560974"
        ],
        [
         "1571",
         "Air India",
         "Kolkata",
         "Banglore",
         "25h  55m",
         "4647",
         "2.9884244372990354"
        ],
        [
         "61",
         "Air India",
         "Delhi",
         "Cochin",
         "27h  20m",
         "5117",
         "3.120121951219512"
        ],
        [
         "9819",
         "Air India",
         "Delhi",
         "Cochin",
         "27h  20m",
         "5117",
         "3.120121951219512"
        ],
        [
         "6747",
         "Air India",
         "Delhi",
         "Cochin",
         "26h  30m",
         "5022",
         "3.158490566037736"
        ],
        [
         "926",
         "Air India",
         "Delhi",
         "Cochin",
         "26h  30m",
         "5022",
         "3.158490566037736"
        ],
        [
         "4591",
         "Jet Airways",
         "Delhi",
         "Cochin",
         "27h  35m",
         "5406",
         "3.266465256797583"
        ],
        [
         "5230",
         "Jet Airways",
         "Delhi",
         "Cochin",
         "26h  10m",
         "5177",
         "3.297452229299363"
        ],
        [
         "5346",
         "Jet Airways",
         "Delhi",
         "Cochin",
         "33h  15m",
         "6643",
         "3.329824561403509"
        ],
        [
         "4428",
         "Air India",
         "Banglore",
         "New Delhi",
         "24h  35m",
         "4943",
         "3.351186440677966"
        ],
        [
         "6440",
         "Air India",
         "Kolkata",
         "Banglore",
         "24h  45m",
         "5006",
         "3.371043771043771"
        ],
        [
         "7527",
         "Air India",
         "Banglore",
         "New Delhi",
         "25h  10m",
         "5092",
         "3.3721854304635763"
        ],
        [
         "7248",
         "Jet Airways",
         "Delhi",
         "Cochin",
         "26h  35m",
         "5406",
         "3.3893416927899684"
        ],
        [
         "9156",
         "Jet Airways",
         "Delhi",
         "Cochin",
         "26h  15m",
         "5406",
         "3.4323809523809525"
        ],
        [
         "6396",
         "Jet Airways",
         "Delhi",
         "Cochin",
         "25h  5m",
         "5177",
         "3.4398671096345517"
        ],
        [
         "2641",
         "Air India",
         "Delhi",
         "Cochin",
         "37h  20m",
         "7711",
         "3.4424107142857143"
        ],
        [
         "3659",
         "Air India",
         "Kolkata",
         "Banglore",
         "24h ",
         "5006",
         "3.4763888888888888"
        ],
        [
         "9551",
         "Air India",
         "Delhi",
         "Cochin",
         "38h  15m",
         "8026",
         "3.4971677559912853"
        ],
        [
         "6059",
         "Jet Airways",
         "Delhi",
         "Cochin",
         "38h  35m",
         "8098",
         "3.4980561555075593"
        ],
        [
         "8557",
         "Jet Airways",
         "Delhi",
         "Cochin",
         "27h  45m",
         "5963",
         "3.5813813813813815"
        ],
        [
         "6478",
         "Air India",
         "Delhi",
         "Cochin",
         "26h  30m",
         "5704",
         "3.587421383647799"
        ],
        [
         "4280",
         "Air India",
         "Delhi",
         "Cochin",
         "23h  40m",
         "5117",
         "3.6035211267605636"
        ],
        [
         "1744",
         "Air India",
         "Banglore",
         "New Delhi",
         "26h ",
         "5626",
         "3.6064102564102565"
        ],
        [
         "6248",
         "Jet Airways",
         "Delhi",
         "Cochin",
         "24h  45m",
         "5406",
         "3.6404040404040403"
        ],
        [
         "7037",
         "Jet Airways",
         "Delhi",
         "Cochin",
         "26h  50m",
         "5963",
         "3.703726708074534"
        ],
        [
         "4112",
         "Air India",
         "Banglore",
         "New Delhi",
         "24h  35m",
         "5521",
         "3.743050847457627"
        ],
        [
         "1496",
         "Air India",
         "Delhi",
         "Cochin",
         "37h  20m",
         "8446",
         "3.7705357142857143"
        ],
        [
         "170",
         "Jet Airways",
         "Delhi",
         "Cochin",
         "22h  35m",
         "5177",
         "3.8206642066420664"
        ],
        [
         "2876",
         "Jet Airways",
         "Delhi",
         "Cochin",
         "26h  10m",
         "6017",
         "3.832484076433121"
        ],
        [
         "10210",
         "Air India",
         "Kolkata",
         "Banglore",
         "28h  20m",
         "6535",
         "3.8441176470588236"
        ],
        [
         "6476",
         "Jet Airways",
         "Delhi",
         "Cochin",
         "38h  35m",
         "8938",
         "3.8609071274298055"
        ],
        [
         "636",
         "Jet Airways",
         "Delhi",
         "Cochin",
         "23h  5m",
         "5406",
         "3.903249097472924"
        ],
        [
         "4514",
         "Jet Airways",
         "Delhi",
         "Cochin",
         "25h  20m",
         "5963",
         "3.923026315789474"
        ],
        [
         "8671",
         "Air India",
         "Kolkata",
         "Banglore",
         "25h  55m",
         "6117",
         "3.9337620578778134"
        ],
        [
         "6797",
         "Air India",
         "Kolkata",
         "Banglore",
         "25h  55m",
         "6117",
         "3.9337620578778134"
        ],
        [
         "10404",
         "Air India",
         "Kolkata",
         "Banglore",
         "25h  55m",
         "6117",
         "3.9337620578778134"
        ],
        [
         "5464",
         "Air India",
         "Banglore",
         "New Delhi",
         "25h  20m",
         "6010",
         "3.9539473684210527"
        ],
        [
         "3201",
         "Vistara",
         "Banglore",
         "New Delhi",
         "27h  45m",
         "6590",
         "3.957957957957958"
        ],
        [
         "9231",
         "Air India",
         "Kolkata",
         "Banglore",
         "19h  30m",
         "4647",
         "3.971794871794872"
        ],
        [
         "9484",
         "Air India",
         "Delhi",
         "Cochin",
         "38h ",
         "9128",
         "4.003508771929824"
        ],
        [
         "3815",
         "Air India",
         "Delhi",
         "Cochin",
         "38h ",
         "9128",
         "4.003508771929824"
        ],
        [
         "8412",
         "Jet Airways",
         "Delhi",
         "Cochin",
         "38h  20m",
         "9254",
         "4.023478260869565"
        ],
        [
         "1115",
         "Air India",
         "Banglore",
         "New Delhi",
         "21h  5m",
         "5092",
         "4.025296442687747"
        ],
        [
         "6987",
         "Jet Airways",
         "Delhi",
         "Cochin",
         "32h  5m",
         "7791",
         "4.047272727272727"
        ],
        [
         "1523",
         "Jet Airways",
         "Delhi",
         "Cochin",
         "24h  30m",
         "5963",
         "4.056462585034014"
        ],
        [
         "147",
         "Air India",
         "Delhi",
         "Cochin",
         "20h  55m",
         "5117",
         "4.077290836653386"
        ],
        [
         "7114",
         "Jet Airways",
         "Kolkata",
         "Banglore",
         "28h  40m",
         "7064",
         "4.1069767441860465"
        ],
        [
         "1657",
         "Air India",
         "Delhi",
         "Cochin",
         "38h  15m",
         "9443",
         "4.114596949891068"
        ],
        [
         "1551",
         "Jet Airways",
         "Delhi",
         "Cochin",
         "37h  25m",
         "9296",
         "4.14075723830735"
        ]
       ],
       "shape": {
        "columns": 6,
        "rows": 1069
       }
      },
      "text/html": [
       "<div>\n",
       "<style scoped>\n",
       "    .dataframe tbody tr th:only-of-type {\n",
       "        vertical-align: middle;\n",
       "    }\n",
       "\n",
       "    .dataframe tbody tr th {\n",
       "        vertical-align: top;\n",
       "    }\n",
       "\n",
       "    .dataframe thead th {\n",
       "        text-align: right;\n",
       "    }\n",
       "</style>\n",
       "<table border=\"1\" class=\"dataframe\">\n",
       "  <thead>\n",
       "    <tr style=\"text-align: right;\">\n",
       "      <th></th>\n",
       "      <th>Airline</th>\n",
       "      <th>Source</th>\n",
       "      <th>Destination</th>\n",
       "      <th>Duration</th>\n",
       "      <th>Price</th>\n",
       "      <th>Price_per_minute</th>\n",
       "    </tr>\n",
       "  </thead>\n",
       "  <tbody>\n",
       "    <tr>\n",
       "      <th>274</th>\n",
       "      <td>Air India</td>\n",
       "      <td>Delhi</td>\n",
       "      <td>Cochin</td>\n",
       "      <td>27h  20m</td>\n",
       "      <td>4487</td>\n",
       "      <td>2.735976</td>\n",
       "    </tr>\n",
       "    <tr>\n",
       "      <th>10566</th>\n",
       "      <td>Air India</td>\n",
       "      <td>Delhi</td>\n",
       "      <td>Cochin</td>\n",
       "      <td>27h  20m</td>\n",
       "      <td>4487</td>\n",
       "      <td>2.735976</td>\n",
       "    </tr>\n",
       "    <tr>\n",
       "      <th>1571</th>\n",
       "      <td>Air India</td>\n",
       "      <td>Kolkata</td>\n",
       "      <td>Banglore</td>\n",
       "      <td>25h  55m</td>\n",
       "      <td>4647</td>\n",
       "      <td>2.988424</td>\n",
       "    </tr>\n",
       "    <tr>\n",
       "      <th>61</th>\n",
       "      <td>Air India</td>\n",
       "      <td>Delhi</td>\n",
       "      <td>Cochin</td>\n",
       "      <td>27h  20m</td>\n",
       "      <td>5117</td>\n",
       "      <td>3.120122</td>\n",
       "    </tr>\n",
       "    <tr>\n",
       "      <th>9819</th>\n",
       "      <td>Air India</td>\n",
       "      <td>Delhi</td>\n",
       "      <td>Cochin</td>\n",
       "      <td>27h  20m</td>\n",
       "      <td>5117</td>\n",
       "      <td>3.120122</td>\n",
       "    </tr>\n",
       "    <tr>\n",
       "      <th>...</th>\n",
       "      <td>...</td>\n",
       "      <td>...</td>\n",
       "      <td>...</td>\n",
       "      <td>...</td>\n",
       "      <td>...</td>\n",
       "      <td>...</td>\n",
       "    </tr>\n",
       "    <tr>\n",
       "      <th>4786</th>\n",
       "      <td>Jet Airways</td>\n",
       "      <td>Delhi</td>\n",
       "      <td>Cochin</td>\n",
       "      <td>29h  50m</td>\n",
       "      <td>13376</td>\n",
       "      <td>7.472626</td>\n",
       "    </tr>\n",
       "    <tr>\n",
       "      <th>8446</th>\n",
       "      <td>Jet Airways</td>\n",
       "      <td>Delhi</td>\n",
       "      <td>Cochin</td>\n",
       "      <td>29h  50m</td>\n",
       "      <td>13376</td>\n",
       "      <td>7.472626</td>\n",
       "    </tr>\n",
       "    <tr>\n",
       "      <th>10476</th>\n",
       "      <td>Jet Airways</td>\n",
       "      <td>Delhi</td>\n",
       "      <td>Cochin</td>\n",
       "      <td>13h  25m</td>\n",
       "      <td>6017</td>\n",
       "      <td>7.474534</td>\n",
       "    </tr>\n",
       "    <tr>\n",
       "      <th>9733</th>\n",
       "      <td>Jet Airways</td>\n",
       "      <td>Kolkata</td>\n",
       "      <td>Banglore</td>\n",
       "      <td>15h  45m</td>\n",
       "      <td>7064</td>\n",
       "      <td>7.475132</td>\n",
       "    </tr>\n",
       "    <tr>\n",
       "      <th>6062</th>\n",
       "      <td>Jet Airways</td>\n",
       "      <td>Delhi</td>\n",
       "      <td>Cochin</td>\n",
       "      <td>16h  35m</td>\n",
       "      <td>7438</td>\n",
       "      <td>7.475377</td>\n",
       "    </tr>\n",
       "  </tbody>\n",
       "</table>\n",
       "<p>1069 rows × 6 columns</p>\n",
       "</div>"
      ],
      "text/plain": [
       "           Airline   Source Destination  Duration  Price  Price_per_minute\n",
       "274      Air India    Delhi      Cochin  27h  20m   4487          2.735976\n",
       "10566    Air India    Delhi      Cochin  27h  20m   4487          2.735976\n",
       "1571     Air India  Kolkata    Banglore  25h  55m   4647          2.988424\n",
       "61       Air India    Delhi      Cochin  27h  20m   5117          3.120122\n",
       "9819     Air India    Delhi      Cochin  27h  20m   5117          3.120122\n",
       "...            ...      ...         ...       ...    ...               ...\n",
       "4786   Jet Airways    Delhi      Cochin  29h  50m  13376          7.472626\n",
       "8446   Jet Airways    Delhi      Cochin  29h  50m  13376          7.472626\n",
       "10476  Jet Airways    Delhi      Cochin  13h  25m   6017          7.474534\n",
       "9733   Jet Airways  Kolkata    Banglore  15h  45m   7064          7.475132\n",
       "6062   Jet Airways    Delhi      Cochin  16h  35m   7438          7.475377\n",
       "\n",
       "[1069 rows x 6 columns]"
      ]
     },
     "execution_count": 14,
     "metadata": {},
     "output_type": "execute_result"
    }
   ],
   "source": [
    "# Define a custom threshold for \"good deals\"\n",
    "threshold = df['Price_per_minute'].quantile(0.10)\n",
    "\n",
    "df['Deal_Flag'] = df['Price_per_minute'].apply(lambda x: 'Good Deal' if x < threshold else 'Regular')\n",
    "\n",
    "# View some flagged deals\n",
    "df[df['Deal_Flag'] == 'Good Deal'][\n",
    "    ['Airline', 'Source', 'Destination', 'Duration', 'Price', 'Price_per_minute']\n",
    "].sort_values(by='Price_per_minute')\n"
   ]
  },
  {
   "cell_type": "markdown",
   "id": "48006f87",
   "metadata": {},
   "source": [
    "## 📘 Section: Anomaly Detection – Logic, Assumptions & Thresholds\n",
    "\n",
    "## 📊 Price Anomaly Detection: Logic, Assumptions, and Thresholds\n",
    "\n",
    "We used two transparent, statistical methods to flag pricing anomalies in the dataset: **IQR method** and **Z-score method**.\n",
    "\n",
    "### 🔹 1. Interquartile Range (IQR) Method\n",
    "\n",
    "**Logic:**\n",
    "- Compute Q1 (25th percentile) and Q3 (75th percentile) of the price distribution.\n",
    "- Calculate IQR = Q3 - Q1.\n",
    "- Define anomalies as any prices:\n",
    "  - Below: Q1 - 1.5 × IQR\n",
    "  - Above: Q3 + 1.5 × IQR\n",
    "\n",
    "**Assumptions:**\n",
    "- Price distribution is not necessarily normal.\n",
    "- Outliers exist on the high end of the price range.\n",
    "\n",
    "**Thresholds Used:**\n",
    "- Q1 = {your actual Q1 value, e.g., 7,143}\n",
    "- Q3 = {your Q3 value, e.g., 11,548}\n",
    "- Anomalies: `Price < lower_bound` or `Price > upper_bound`\n",
    "\n",
    "### 🔹 2. Z-Score Method\n",
    "\n",
    "**Logic:**\n",
    "- Calculate the z-score for each price using standard deviation.\n",
    "- Flag prices with z-score magnitude > 3 as anomalies.\n",
    "\n",
    "**Assumptions:**\n",
    "- Suitable for symmetric (normal-like) distributions.\n",
    "- Most price values fall within ±3 standard deviations.\n",
    "\n",
    "**Thresholds Used:**\n",
    "- Anomalies: `abs(z-score) > 3`\n",
    "\n",
    "---\n",
    "\n",
    "## 💡 Key Insights:\n",
    "\n",
    "- **Total price anomalies (IQR):** 94 rows\n",
    "- **Most anomalies are overpriced flights.**\n",
    "- No significantly underpriced flights were detected by these statistical methods.\n",
    "\n",
    "---\n",
    "\n",
    "## 🏷️ Scoring & Prioritization of High-Opportunity Entries\n",
    "\n",
    "We defined a **Price Efficiency Score**:\n",
    "\n",
    "\n",
    "\n",
    "Flights with a **low Price per Minute** are considered **potential good deals**, even if they are not statistical outliers.\n",
    "\n",
    "We flagged:\n",
    "- Top 10% of flights with the **lowest Price per Minute** as \"Good Deals\"\n",
    "- Outliers (IQR) with high prices as potential \"Overpriced Flights\"\n",
    "\n",
    "This combination allows for clear, explainable filtering of:\n",
    "- **Unusually expensive entries**\n",
    "- **High-value, potentially underpriced entries**\n",
    "\n"
   ]
  },
  {
   "cell_type": "code",
   "execution_count": null,
   "id": "b395205d",
   "metadata": {},
   "outputs": [],
   "source": []
  }
 ],
 "metadata": {
  "kernelspec": {
   "display_name": "dl_env",
   "language": "python",
   "name": "python3"
  },
  "language_info": {
   "codemirror_mode": {
    "name": "ipython",
    "version": 3
   },
   "file_extension": ".py",
   "mimetype": "text/x-python",
   "name": "python",
   "nbconvert_exporter": "python",
   "pygments_lexer": "ipython3",
   "version": "3.10.11"
  }
 },
 "nbformat": 4,
 "nbformat_minor": 5
}
